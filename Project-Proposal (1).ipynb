{
 "cells": [
  {
   "cell_type": "code",
   "execution_count": 1,
   "metadata": {
    "colab": {
     "base_uri": "https://localhost:8080/",
     "height": 132
    },
    "executionInfo": {
     "elapsed": 313,
     "status": "error",
     "timestamp": 1604538272922,
     "user": {
      "displayName": "Misha Seka",
      "photoUrl": "",
      "userId": "14042644838167736763"
     },
     "user_tz": 480
    },
    "id": "Eksmc-8iS3l3",
    "outputId": "4d90d921-7e17-4749-ad37-15cfac8794f7"
   },
   "outputs": [
    {
     "name": "stderr",
     "output_type": "stream",
     "text": [
      "── \u001b[1mAttaching packages\u001b[22m ─────────────────────────────────────── tidyverse 1.3.0 ──\n",
      "\n",
      "\u001b[32m✔\u001b[39m \u001b[34mggplot2\u001b[39m 3.3.2     \u001b[32m✔\u001b[39m \u001b[34mpurrr  \u001b[39m 0.3.4\n",
      "\u001b[32m✔\u001b[39m \u001b[34mtibble \u001b[39m 3.0.3     \u001b[32m✔\u001b[39m \u001b[34mdplyr  \u001b[39m 1.0.2\n",
      "\u001b[32m✔\u001b[39m \u001b[34mtidyr  \u001b[39m 1.1.1     \u001b[32m✔\u001b[39m \u001b[34mstringr\u001b[39m 1.4.0\n",
      "\u001b[32m✔\u001b[39m \u001b[34mreadr  \u001b[39m 1.3.1     \u001b[32m✔\u001b[39m \u001b[34mforcats\u001b[39m 0.5.0\n",
      "\n",
      "Warning message:\n",
      "“package ‘ggplot2’ was built under R version 4.0.1”\n",
      "Warning message:\n",
      "“package ‘tibble’ was built under R version 4.0.2”\n",
      "Warning message:\n",
      "“package ‘tidyr’ was built under R version 4.0.2”\n",
      "Warning message:\n",
      "“package ‘dplyr’ was built under R version 4.0.2”\n",
      "── \u001b[1mConflicts\u001b[22m ────────────────────────────────────────── tidyverse_conflicts() ──\n",
      "\u001b[31m✖\u001b[39m \u001b[34mdplyr\u001b[39m::\u001b[32mfilter()\u001b[39m masks \u001b[34mstats\u001b[39m::filter()\n",
      "\u001b[31m✖\u001b[39m \u001b[34mdplyr\u001b[39m::\u001b[32mlag()\u001b[39m    masks \u001b[34mstats\u001b[39m::lag()\n",
      "\n",
      "Warning message:\n",
      "“package ‘tidymodels’ was built under R version 4.0.2”\n",
      "── \u001b[1mAttaching packages\u001b[22m ────────────────────────────────────── tidymodels 0.1.1 ──\n",
      "\n",
      "\u001b[32m✔\u001b[39m \u001b[34mbroom    \u001b[39m 0.7.0      \u001b[32m✔\u001b[39m \u001b[34mrecipes  \u001b[39m 0.1.13\n",
      "\u001b[32m✔\u001b[39m \u001b[34mdials    \u001b[39m 0.0.8      \u001b[32m✔\u001b[39m \u001b[34mrsample  \u001b[39m 0.0.7 \n",
      "\u001b[32m✔\u001b[39m \u001b[34minfer    \u001b[39m 0.5.3      \u001b[32m✔\u001b[39m \u001b[34mtune     \u001b[39m 0.1.1 \n",
      "\u001b[32m✔\u001b[39m \u001b[34mmodeldata\u001b[39m 0.0.2      \u001b[32m✔\u001b[39m \u001b[34mworkflows\u001b[39m 0.1.3 \n",
      "\u001b[32m✔\u001b[39m \u001b[34mparsnip  \u001b[39m 0.1.3      \u001b[32m✔\u001b[39m \u001b[34myardstick\u001b[39m 0.0.7 \n",
      "\n",
      "Warning message:\n",
      "“package ‘broom’ was built under R version 4.0.2”\n",
      "Warning message:\n",
      "“package ‘dials’ was built under R version 4.0.2”\n",
      "Warning message:\n",
      "“package ‘infer’ was built under R version 4.0.2”\n",
      "Warning message:\n",
      "“package ‘modeldata’ was built under R version 4.0.1”\n",
      "Warning message:\n",
      "“package ‘parsnip’ was built under R version 4.0.2”\n",
      "Warning message:\n",
      "“package ‘recipes’ was built under R version 4.0.1”\n",
      "Warning message:\n",
      "“package ‘tune’ was built under R version 4.0.2”\n",
      "Warning message:\n",
      "“package ‘workflows’ was built under R version 4.0.2”\n",
      "Warning message:\n",
      "“package ‘yardstick’ was built under R version 4.0.2”\n",
      "── \u001b[1mConflicts\u001b[22m ───────────────────────────────────────── tidymodels_conflicts() ──\n",
      "\u001b[31m✖\u001b[39m \u001b[34mscales\u001b[39m::\u001b[32mdiscard()\u001b[39m masks \u001b[34mpurrr\u001b[39m::discard()\n",
      "\u001b[31m✖\u001b[39m \u001b[34mdplyr\u001b[39m::\u001b[32mfilter()\u001b[39m   masks \u001b[34mstats\u001b[39m::filter()\n",
      "\u001b[31m✖\u001b[39m \u001b[34mrecipes\u001b[39m::\u001b[32mfixed()\u001b[39m  masks \u001b[34mstringr\u001b[39m::fixed()\n",
      "\u001b[31m✖\u001b[39m \u001b[34mdplyr\u001b[39m::\u001b[32mlag()\u001b[39m      masks \u001b[34mstats\u001b[39m::lag()\n",
      "\u001b[31m✖\u001b[39m \u001b[34myardstick\u001b[39m::\u001b[32mspec()\u001b[39m masks \u001b[34mreadr\u001b[39m::spec()\n",
      "\u001b[31m✖\u001b[39m \u001b[34mrecipes\u001b[39m::\u001b[32mstep()\u001b[39m   masks \u001b[34mstats\u001b[39m::step()\n",
      "\n"
     ]
    }
   ],
   "source": [
    "library(tidyverse)\n",
    "library(repr)\n",
    "library(tidymodels)"
   ]
  },
  {
   "cell_type": "markdown",
   "metadata": {
    "id": "VR00g6bAS3l-"
   },
   "source": [
    "## Predicting Graduate School Admission Rates (Project Proposal)\n",
    "DSCI 100 Group 21\n",
    "- Benjamin Chang (14554159)\n",
    "- Michael Sekatchev (58850397)\n",
    "- Hatice Sila Yildiz (97630230)\n",
    "- Weicong Zhang (11877164) \n",
    "\n",
    "Word Count: 560"
   ]
  },
  {
   "cell_type": "markdown",
   "metadata": {
    "id": "z4yg0IkKS3l_"
   },
   "source": [
    "### Introduction\n",
    "Our project seeks to answer the question: Given scores on standardized tests, academic and non-academic components, what are the chances of admission to graduate school?\n",
    "\n",
    "Undergraduate students are often concerned with admission statistics and their chances of admission, which is why we were interested in creating a model that could predict one’s chances of admissions based on certain factors shown below:\n",
    "\n",
    "**Standardized Testing**\n",
    "- `GRE.score`\n",
    "- `TOEFL.score`\n",
    "\n",
    "**Academics**\n",
    "- `CGPA`\n",
    "- `Research` (0 = None, 1 = Has Experience)\n",
    "\n",
    "**Non-Academic**\n",
    "- `Statement of Purpose` (SOP):Measured from 1-5, 5 being strongest)\n",
    "- `Letter of Recommendation` (LOR:Measured from 1-5, 5 being strongest)\n",
    "\n",
    "The dataset is created by Mohan S. Acharya, and is publicly accessible on Kaggle as a csv file. It contains 400 observations (rows)."
   ]
  },
  {
   "cell_type": "markdown",
   "metadata": {
    "id": "gfpC38oZS3l_"
   },
   "source": [
    "### Preliminary exploratory data analysis\n",
    "Our dataset is from a csv file found on Kaggle, which we uploaded onto Github and loaded into R with a direct link. A bit of tidying has been done to edit the column names and change certain categorical features into factors. "
   ]
  },
  {
   "cell_type": "code",
   "execution_count": 2,
   "metadata": {
    "colab": {
     "base_uri": "https://localhost:8080/",
     "height": 467
    },
    "executionInfo": {
     "elapsed": 373,
     "status": "ok",
     "timestamp": 1604538202020,
     "user": {
      "displayName": "Misha Seka",
      "photoUrl": "",
      "userId": "14042644838167736763"
     },
     "user_tz": 480
    },
    "id": "tS0A55TBS3mB",
    "outputId": "62289506-c01f-4997-c6d5-e079eea4cdd1"
   },
   "outputs": [
    {
     "name": "stderr",
     "output_type": "stream",
     "text": [
      "Parsed with column specification:\n",
      "cols(\n",
      "  `Serial No.` = \u001b[32mcol_double()\u001b[39m,\n",
      "  `GRE Score` = \u001b[32mcol_double()\u001b[39m,\n",
      "  `TOEFL Score` = \u001b[32mcol_double()\u001b[39m,\n",
      "  `University Rating` = \u001b[32mcol_double()\u001b[39m,\n",
      "  SOP = \u001b[32mcol_double()\u001b[39m,\n",
      "  LOR = \u001b[32mcol_double()\u001b[39m,\n",
      "  CGPA = \u001b[32mcol_double()\u001b[39m,\n",
      "  Research = \u001b[32mcol_double()\u001b[39m,\n",
      "  `Chance of Admit` = \u001b[32mcol_double()\u001b[39m\n",
      ")\n",
      "\n"
     ]
    },
    {
     "data": {
      "text/html": [
       "<table>\n",
       "<caption>A tibble: 6 × 9</caption>\n",
       "<thead>\n",
       "\t<tr><th scope=col>Serial.No.</th><th scope=col>GRE.Score</th><th scope=col>TOEFL.Score</th><th scope=col>University.Rating</th><th scope=col>SOP</th><th scope=col>LOR</th><th scope=col>CGPA</th><th scope=col>Research</th><th scope=col>Chance.of.Admit</th></tr>\n",
       "\t<tr><th scope=col>&lt;dbl&gt;</th><th scope=col>&lt;dbl&gt;</th><th scope=col>&lt;dbl&gt;</th><th scope=col>&lt;fct&gt;</th><th scope=col>&lt;dbl&gt;</th><th scope=col>&lt;dbl&gt;</th><th scope=col>&lt;dbl&gt;</th><th scope=col>&lt;fct&gt;</th><th scope=col>&lt;dbl&gt;</th></tr>\n",
       "</thead>\n",
       "<tbody>\n",
       "\t<tr><td>1</td><td>337</td><td>118</td><td>4</td><td>4.5</td><td>4.5</td><td>9.65</td><td>1</td><td>0.92</td></tr>\n",
       "\t<tr><td>2</td><td>324</td><td>107</td><td>4</td><td>4.0</td><td>4.5</td><td>8.87</td><td>1</td><td>0.76</td></tr>\n",
       "\t<tr><td>3</td><td>316</td><td>104</td><td>3</td><td>3.0</td><td>3.5</td><td>8.00</td><td>1</td><td>0.72</td></tr>\n",
       "\t<tr><td>4</td><td>322</td><td>110</td><td>3</td><td>3.5</td><td>2.5</td><td>8.67</td><td>1</td><td>0.80</td></tr>\n",
       "\t<tr><td>5</td><td>314</td><td>103</td><td>2</td><td>2.0</td><td>3.0</td><td>8.21</td><td>0</td><td>0.65</td></tr>\n",
       "\t<tr><td>6</td><td>330</td><td>115</td><td>5</td><td>4.5</td><td>3.0</td><td>9.34</td><td>1</td><td>0.90</td></tr>\n",
       "</tbody>\n",
       "</table>\n"
      ],
      "text/latex": [
       "A tibble: 6 × 9\n",
       "\\begin{tabular}{lllllllll}\n",
       " Serial.No. & GRE.Score & TOEFL.Score & University.Rating & SOP & LOR & CGPA & Research & Chance.of.Admit\\\\\n",
       " <dbl> & <dbl> & <dbl> & <fct> & <dbl> & <dbl> & <dbl> & <fct> & <dbl>\\\\\n",
       "\\hline\n",
       "\t 1 & 337 & 118 & 4 & 4.5 & 4.5 & 9.65 & 1 & 0.92\\\\\n",
       "\t 2 & 324 & 107 & 4 & 4.0 & 4.5 & 8.87 & 1 & 0.76\\\\\n",
       "\t 3 & 316 & 104 & 3 & 3.0 & 3.5 & 8.00 & 1 & 0.72\\\\\n",
       "\t 4 & 322 & 110 & 3 & 3.5 & 2.5 & 8.67 & 1 & 0.80\\\\\n",
       "\t 5 & 314 & 103 & 2 & 2.0 & 3.0 & 8.21 & 0 & 0.65\\\\\n",
       "\t 6 & 330 & 115 & 5 & 4.5 & 3.0 & 9.34 & 1 & 0.90\\\\\n",
       "\\end{tabular}\n"
      ],
      "text/markdown": [
       "\n",
       "A tibble: 6 × 9\n",
       "\n",
       "| Serial.No. &lt;dbl&gt; | GRE.Score &lt;dbl&gt; | TOEFL.Score &lt;dbl&gt; | University.Rating &lt;fct&gt; | SOP &lt;dbl&gt; | LOR &lt;dbl&gt; | CGPA &lt;dbl&gt; | Research &lt;fct&gt; | Chance.of.Admit &lt;dbl&gt; |\n",
       "|---|---|---|---|---|---|---|---|---|\n",
       "| 1 | 337 | 118 | 4 | 4.5 | 4.5 | 9.65 | 1 | 0.92 |\n",
       "| 2 | 324 | 107 | 4 | 4.0 | 4.5 | 8.87 | 1 | 0.76 |\n",
       "| 3 | 316 | 104 | 3 | 3.0 | 3.5 | 8.00 | 1 | 0.72 |\n",
       "| 4 | 322 | 110 | 3 | 3.5 | 2.5 | 8.67 | 1 | 0.80 |\n",
       "| 5 | 314 | 103 | 2 | 2.0 | 3.0 | 8.21 | 0 | 0.65 |\n",
       "| 6 | 330 | 115 | 5 | 4.5 | 3.0 | 9.34 | 1 | 0.90 |\n",
       "\n"
      ],
      "text/plain": [
       "  Serial.No. GRE.Score TOEFL.Score University.Rating SOP LOR CGPA Research\n",
       "1 1          337       118         4                 4.5 4.5 9.65 1       \n",
       "2 2          324       107         4                 4.0 4.5 8.87 1       \n",
       "3 3          316       104         3                 3.0 3.5 8.00 1       \n",
       "4 4          322       110         3                 3.5 2.5 8.67 1       \n",
       "5 5          314       103         2                 2.0 3.0 8.21 0       \n",
       "6 6          330       115         5                 4.5 3.0 9.34 1       \n",
       "  Chance.of.Admit\n",
       "1 0.92           \n",
       "2 0.76           \n",
       "3 0.72           \n",
       "4 0.80           \n",
       "5 0.65           \n",
       "6 0.90           "
      ]
     },
     "metadata": {},
     "output_type": "display_data"
    }
   ],
   "source": [
    "data <- read_csv(\"https://raw.githubusercontent.com/msekatchev/DSCI100Project/main/Admission_Predict.csv\")\n",
    "names(data)<-str_replace_all(names(data), c(\" \" = \".\" , \",\" = \"\" ))\n",
    "data <- mutate(data, University.Rating = as_factor(University.Rating))\n",
    "data <- mutate(data, Research = as_factor(Research))\n",
    "head(data)"
   ]
  },
  {
   "cell_type": "markdown",
   "metadata": {
    "id": "IrS6EKKTS3mG"
   },
   "source": [
    "A summary of our data can be shown below. Since the columns `University.Rating` and `Research` are categorical variables, the summary function gives a count of each possible value.\n"
   ]
  },
  {
   "cell_type": "code",
   "execution_count": 3,
   "metadata": {
    "colab": {
     "base_uri": "https://localhost:8080/",
     "height": 97
    },
    "executionInfo": {
     "elapsed": 364,
     "status": "error",
     "timestamp": 1604538204029,
     "user": {
      "displayName": "Misha Seka",
      "photoUrl": "",
      "userId": "14042644838167736763"
     },
     "user_tz": 480
    },
    "id": "e04PuryRS3mH",
    "outputId": "674fa334-3052-44f1-d243-6235ee861505"
   },
   "outputs": [
    {
     "data": {
      "text/plain": [
       "   Serial.No.      GRE.Score      TOEFL.Score    University.Rating\n",
       " Min.   :  1.0   Min.   :290.0   Min.   : 92.0   1:20             \n",
       " 1st Qu.: 91.0   1st Qu.:308.0   1st Qu.:103.0   2:79             \n",
       " Median :197.0   Median :316.0   Median :107.0   3:99             \n",
       " Mean   :197.6   Mean   :316.6   Mean   :107.3   4:54             \n",
       " 3rd Qu.:301.0   3rd Qu.:325.0   3rd Qu.:112.0   5:49             \n",
       " Max.   :400.0   Max.   :340.0   Max.   :120.0                    \n",
       "      SOP            LOR             CGPA       Research Chance.of.Admit \n",
       " Min.   :1.00   Min.   :1.000   Min.   :6.800   0:136    Min.   :0.3400  \n",
       " 1st Qu.:2.50   1st Qu.:3.000   1st Qu.:8.180   1:165    1st Qu.:0.6400  \n",
       " Median :3.50   Median :3.500   Median :8.600            Median :0.7300  \n",
       " Mean   :3.44   Mean   :3.487   Mean   :8.603            Mean   :0.7255  \n",
       " 3rd Qu.:4.00   3rd Qu.:4.000   3rd Qu.:9.040            3rd Qu.:0.8300  \n",
       " Max.   :5.00   Max.   :5.000   Max.   :9.920            Max.   :0.9700  "
      ]
     },
     "metadata": {},
     "output_type": "display_data"
    }
   ],
   "source": [
    "admissions_split <- initial_split(data, prop = 0.75, strata = Chance.of.Admit)\n",
    "admissions_training <- training(admissions_split)\n",
    "admissions_testing <- testing(admissions_split)\n",
    "summary(admissions_training)"
   ]
  },
  {
   "cell_type": "markdown",
   "metadata": {
    "id": "P_eMaf6xS3mL"
   },
   "source": [
    "### To make the data easier to visualize, we can put it into a dataframe shown below: "
   ]
  },
  {
   "cell_type": "code",
   "execution_count": 4,
   "metadata": {
    "id": "_e6dQQNAS3mM",
    "outputId": "6a03ec4b-e1c2-405b-b2c9-8d655d3263c5"
   },
   "outputs": [
    {
     "name": "stderr",
     "output_type": "stream",
     "text": [
      "Warning message in (function (..., deparse.level = 1) :\n",
      "“number of rows of result is not a multiple of vector length (arg 4)”\n"
     ]
    },
    {
     "data": {
      "text/html": [
       "<table>\n",
       "<caption>A matrix: 6 × 9 of type dbl</caption>\n",
       "<thead>\n",
       "\t<tr><th></th><th scope=col>Serial.No.</th><th scope=col>GRE.Score</th><th scope=col>TOEFL.Score</th><th scope=col>University.Rating</th><th scope=col>SOP</th><th scope=col>LOR</th><th scope=col>CGPA</th><th scope=col>Research</th><th scope=col>Chance.of.Admit</th></tr>\n",
       "</thead>\n",
       "<tbody>\n",
       "\t<tr><th scope=row>Min.</th><td>  1.0000</td><td>290.000</td><td> 92.0000</td><td>20</td><td>1.000000</td><td>1.000000</td><td>6.800000</td><td>136</td><td>0.3400000</td></tr>\n",
       "\t<tr><th scope=row>1st Qu.</th><td> 91.0000</td><td>308.000</td><td>103.0000</td><td>79</td><td>2.500000</td><td>3.000000</td><td>8.180000</td><td>165</td><td>0.6400000</td></tr>\n",
       "\t<tr><th scope=row>Median</th><td>197.0000</td><td>316.000</td><td>107.0000</td><td>99</td><td>3.500000</td><td>3.500000</td><td>8.600000</td><td>136</td><td>0.7300000</td></tr>\n",
       "\t<tr><th scope=row>Mean</th><td>197.6013</td><td>316.598</td><td>107.3123</td><td>54</td><td>3.440199</td><td>3.486711</td><td>8.602824</td><td>165</td><td>0.7255482</td></tr>\n",
       "\t<tr><th scope=row>3rd Qu.</th><td>301.0000</td><td>325.000</td><td>112.0000</td><td>49</td><td>4.000000</td><td>4.000000</td><td>9.040000</td><td>136</td><td>0.8300000</td></tr>\n",
       "\t<tr><th scope=row>Max.</th><td>400.0000</td><td>340.000</td><td>120.0000</td><td>20</td><td>5.000000</td><td>5.000000</td><td>9.920000</td><td>165</td><td>0.9700000</td></tr>\n",
       "</tbody>\n",
       "</table>\n"
      ],
      "text/latex": [
       "A matrix: 6 × 9 of type dbl\n",
       "\\begin{tabular}{r|lllllllll}\n",
       "  & Serial.No. & GRE.Score & TOEFL.Score & University.Rating & SOP & LOR & CGPA & Research & Chance.of.Admit\\\\\n",
       "\\hline\n",
       "\tMin. &   1.0000 & 290.000 &  92.0000 & 20 & 1.000000 & 1.000000 & 6.800000 & 136 & 0.3400000\\\\\n",
       "\t1st Qu. &  91.0000 & 308.000 & 103.0000 & 79 & 2.500000 & 3.000000 & 8.180000 & 165 & 0.6400000\\\\\n",
       "\tMedian & 197.0000 & 316.000 & 107.0000 & 99 & 3.500000 & 3.500000 & 8.600000 & 136 & 0.7300000\\\\\n",
       "\tMean & 197.6013 & 316.598 & 107.3123 & 54 & 3.440199 & 3.486711 & 8.602824 & 165 & 0.7255482\\\\\n",
       "\t3rd Qu. & 301.0000 & 325.000 & 112.0000 & 49 & 4.000000 & 4.000000 & 9.040000 & 136 & 0.8300000\\\\\n",
       "\tMax. & 400.0000 & 340.000 & 120.0000 & 20 & 5.000000 & 5.000000 & 9.920000 & 165 & 0.9700000\\\\\n",
       "\\end{tabular}\n"
      ],
      "text/markdown": [
       "\n",
       "A matrix: 6 × 9 of type dbl\n",
       "\n",
       "| <!--/--> | Serial.No. | GRE.Score | TOEFL.Score | University.Rating | SOP | LOR | CGPA | Research | Chance.of.Admit |\n",
       "|---|---|---|---|---|---|---|---|---|---|\n",
       "| Min. |   1.0000 | 290.000 |  92.0000 | 20 | 1.000000 | 1.000000 | 6.800000 | 136 | 0.3400000 |\n",
       "| 1st Qu. |  91.0000 | 308.000 | 103.0000 | 79 | 2.500000 | 3.000000 | 8.180000 | 165 | 0.6400000 |\n",
       "| Median | 197.0000 | 316.000 | 107.0000 | 99 | 3.500000 | 3.500000 | 8.600000 | 136 | 0.7300000 |\n",
       "| Mean | 197.6013 | 316.598 | 107.3123 | 54 | 3.440199 | 3.486711 | 8.602824 | 165 | 0.7255482 |\n",
       "| 3rd Qu. | 301.0000 | 325.000 | 112.0000 | 49 | 4.000000 | 4.000000 | 9.040000 | 136 | 0.8300000 |\n",
       "| Max. | 400.0000 | 340.000 | 120.0000 | 20 | 5.000000 | 5.000000 | 9.920000 | 165 | 0.9700000 |\n",
       "\n"
      ],
      "text/plain": [
       "        Serial.No. GRE.Score TOEFL.Score University.Rating SOP      LOR     \n",
       "Min.      1.0000   290.000    92.0000    20                1.000000 1.000000\n",
       "1st Qu.  91.0000   308.000   103.0000    79                2.500000 3.000000\n",
       "Median  197.0000   316.000   107.0000    99                3.500000 3.500000\n",
       "Mean    197.6013   316.598   107.3123    54                3.440199 3.486711\n",
       "3rd Qu. 301.0000   325.000   112.0000    49                4.000000 4.000000\n",
       "Max.    400.0000   340.000   120.0000    20                5.000000 5.000000\n",
       "        CGPA     Research Chance.of.Admit\n",
       "Min.    6.800000 136      0.3400000      \n",
       "1st Qu. 8.180000 165      0.6400000      \n",
       "Median  8.600000 136      0.7300000      \n",
       "Mean    8.602824 165      0.7255482      \n",
       "3rd Qu. 9.040000 136      0.8300000      \n",
       "Max.    9.920000 165      0.9700000      "
      ]
     },
     "metadata": {},
     "output_type": "display_data"
    }
   ],
   "source": [
    "do.call(cbind, lapply(admissions_training, summary))"
   ]
  },
  {
   "cell_type": "markdown",
   "metadata": {
    "id": "Fp38Ug3SS3mQ"
   },
   "source": [
    "The columns `University.Rating` and `Research` are a bit odd because the summary statistics for the categorical variables aren’t being loaded properly. To get an initial feel for the data through visualization, we’ve plotted GPA vs Chances of Admission with a distinction on whether or not the applicant has research experience."
   ]
  },
  {
   "cell_type": "code",
   "execution_count": 5,
   "metadata": {
    "id": "s9ipHLZGS3mR",
    "outputId": "66396e6d-120c-4bcf-82ff-74353cd1f237"
   },
   "outputs": [
    {
     "data": {
      "image/png": "[encoded data removed]",
      "text/plain": [
       "plot without title"
      ]
     },
     "metadata": {
      "image/png": {
       "height": 420,
       "width": 420
      }
     },
     "output_type": "display_data"
    }
   ],
   "source": [
    "plot <- ggplot(admissions_training, aes(x=CGPA, y=Chance.of.Admit, color = Research)) +\n",
    "    geom_point() +\n",
    "    labs(x = \"CGPA\", y = \"Chance of Admission\", color = \"Research Experience\")\n",
    "plot"
   ]
  },
  {
   "cell_type": "markdown",
   "metadata": {
    "id": "g4-AZhB9S3mV"
   },
   "source": [
    "We can see there is a strong positive linear relationship between GPA and the admissions chance, and that students with research experience tend to have higher chances of being admitted."
   ]
  },
  {
   "cell_type": "markdown",
   "metadata": {
    "id": "9IB_sG3AS3mW"
   },
   "source": [
    "### Methods\n",
    "Our data has already been cleaned and prepared for analysis above: column names are edited for easier readability and categorical features are transformed into factor types. The data will be split into training/testing (75:25).\n",
    "\n",
    "We will build a KNN regression model that predicts the chance of admission based on all features except serial number and university rating because we don't consider them relevant. Before building the actual model, we will first perform a 5-fold cross-validation to tune for the optimal hyperparameter `neighbors` and then build our final model based on the results of the tuning. \n",
    "\n",
    "An interesting visualization we plan on making is to calculate a new column called `total_score` and plotting Admission Chance vs Total Score to see how well our predictions (a line we will plot) match the actual admission chances (the scatter points). This `total_score` column will not be used in the model training but rather to help visualize our model by concatenating all the predictors into one value. The plot will also help us determine if our model is overfitting or underfitting the data. "
   ]
  },
  {
   "cell_type": "markdown",
   "metadata": {
    "id": "rJEIMXhNS3mW"
   },
   "source": [
    "### Expected outcomes and significance:\n",
    "We expect to see rows with higher scores in any category (GPA, GRE, etc.) to predict a higher admission chance since we expect higher testing scores or stronger references to increase one's chances of admission. The results of our model can help aspiring graduate students determine what scores to aim for or which features to prioritize to maximize their chances of graduate school admission. Future explorations could include performing an analysis on feature importances to see which category contributes the most to admission chances or seeing how well our model can be generalized to universities worldwide.\n"
   ]
  },
  {
   "cell_type": "markdown",
   "metadata": {
    "id": "2Md_spKNS3mX"
   },
   "source": [
    "### References \n",
    "- Mohan S Acharya, Asfia Armaan, Aneeta S Antony : A Comparison of Regression Models for Prediction of Graduate Admissions, IEEE International Conference on Computational Intelligence in Data Science 2019, https://www.kaggle.com/mohansacharya/graduate-admissions"
   ]
  }
 ],
 "metadata": {
  "colab": {
   "collapsed_sections": [],
   "name": "Project-Proposal.ipynb",
   "provenance": []
  },
  "kernelspec": {
   "display_name": "R",
   "language": "R",
   "name": "ir"
  },
  "language_info": {
   "codemirror_mode": "r",
   "file_extension": ".r",
   "mimetype": "text/x-r-source",
   "name": "R",
   "pygments_lexer": "r",
   "version": "4.0.0"
  }
 },
 "nbformat": 4,
 "nbformat_minor": 1
}
